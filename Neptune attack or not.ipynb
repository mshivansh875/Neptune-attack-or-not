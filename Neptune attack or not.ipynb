{
 "cells": [
  {
   "cell_type": "code",
   "execution_count": 1,
   "id": "1f5bdceb-4a73-4867-bd0f-0414d9f0df82",
   "metadata": {},
   "outputs": [],
   "source": [
    "import pandas as pd\n",
    "import numpy as np"
   ]
  },
  {
   "cell_type": "code",
   "execution_count": 2,
   "id": "b8b187f8-0a03-47c6-950c-36eed96f6df4",
   "metadata": {},
   "outputs": [],
   "source": [
    "train_data = pd.read_csv('Train_data.csv')"
   ]
  },
  {
   "cell_type": "code",
   "execution_count": 3,
   "id": "70945dcc-5f9a-43a7-96c9-0cb27bc1c891",
   "metadata": {},
   "outputs": [
    {
     "data": {
      "text/html": [
       "<div>\n",
       "<style scoped>\n",
       "    .dataframe tbody tr th:only-of-type {\n",
       "        vertical-align: middle;\n",
       "    }\n",
       "\n",
       "    .dataframe tbody tr th {\n",
       "        vertical-align: top;\n",
       "    }\n",
       "\n",
       "    .dataframe thead th {\n",
       "        text-align: right;\n",
       "    }\n",
       "</style>\n",
       "<table border=\"1\" class=\"dataframe\">\n",
       "  <thead>\n",
       "    <tr style=\"text-align: right;\">\n",
       "      <th></th>\n",
       "      <th>duration</th>\n",
       "      <th>protocoltype</th>\n",
       "      <th>service</th>\n",
       "      <th>flag</th>\n",
       "      <th>srcbytes</th>\n",
       "      <th>dstbytes</th>\n",
       "      <th>land</th>\n",
       "      <th>wrongfragment</th>\n",
       "      <th>urgent</th>\n",
       "      <th>hot</th>\n",
       "      <th>...</th>\n",
       "      <th>dsthostsamesrvrate</th>\n",
       "      <th>dsthostdiffsrvrate</th>\n",
       "      <th>dsthostsamesrcportrate</th>\n",
       "      <th>dsthostsrvdiffhostrate</th>\n",
       "      <th>dsthostserrorrate</th>\n",
       "      <th>dsthostsrvserrorrate</th>\n",
       "      <th>dsthostrerrorrate</th>\n",
       "      <th>dsthostsrvrerrorrate</th>\n",
       "      <th>lastflag</th>\n",
       "      <th>attack</th>\n",
       "    </tr>\n",
       "  </thead>\n",
       "  <tbody>\n",
       "    <tr>\n",
       "      <th>0</th>\n",
       "      <td>0</td>\n",
       "      <td>tcp</td>\n",
       "      <td>netbios_dgm</td>\n",
       "      <td>REJ</td>\n",
       "      <td>0</td>\n",
       "      <td>0</td>\n",
       "      <td>0</td>\n",
       "      <td>0</td>\n",
       "      <td>0</td>\n",
       "      <td>0</td>\n",
       "      <td>...</td>\n",
       "      <td>0.06</td>\n",
       "      <td>0.06</td>\n",
       "      <td>0.00</td>\n",
       "      <td>0.00</td>\n",
       "      <td>0.00</td>\n",
       "      <td>0.0</td>\n",
       "      <td>1.00</td>\n",
       "      <td>1.0</td>\n",
       "      <td>21</td>\n",
       "      <td>1</td>\n",
       "    </tr>\n",
       "    <tr>\n",
       "      <th>1</th>\n",
       "      <td>0</td>\n",
       "      <td>tcp</td>\n",
       "      <td>smtp</td>\n",
       "      <td>SF</td>\n",
       "      <td>1239</td>\n",
       "      <td>400</td>\n",
       "      <td>0</td>\n",
       "      <td>0</td>\n",
       "      <td>0</td>\n",
       "      <td>0</td>\n",
       "      <td>...</td>\n",
       "      <td>0.45</td>\n",
       "      <td>0.04</td>\n",
       "      <td>0.00</td>\n",
       "      <td>0.00</td>\n",
       "      <td>0.11</td>\n",
       "      <td>0.0</td>\n",
       "      <td>0.02</td>\n",
       "      <td>0.0</td>\n",
       "      <td>18</td>\n",
       "      <td>0</td>\n",
       "    </tr>\n",
       "    <tr>\n",
       "      <th>2</th>\n",
       "      <td>0</td>\n",
       "      <td>tcp</td>\n",
       "      <td>http</td>\n",
       "      <td>SF</td>\n",
       "      <td>222</td>\n",
       "      <td>945</td>\n",
       "      <td>0</td>\n",
       "      <td>0</td>\n",
       "      <td>0</td>\n",
       "      <td>0</td>\n",
       "      <td>...</td>\n",
       "      <td>1.00</td>\n",
       "      <td>0.00</td>\n",
       "      <td>0.02</td>\n",
       "      <td>0.03</td>\n",
       "      <td>0.00</td>\n",
       "      <td>0.0</td>\n",
       "      <td>0.00</td>\n",
       "      <td>0.0</td>\n",
       "      <td>21</td>\n",
       "      <td>0</td>\n",
       "    </tr>\n",
       "    <tr>\n",
       "      <th>3</th>\n",
       "      <td>0</td>\n",
       "      <td>tcp</td>\n",
       "      <td>http</td>\n",
       "      <td>SF</td>\n",
       "      <td>235</td>\n",
       "      <td>1380</td>\n",
       "      <td>0</td>\n",
       "      <td>0</td>\n",
       "      <td>0</td>\n",
       "      <td>0</td>\n",
       "      <td>...</td>\n",
       "      <td>1.00</td>\n",
       "      <td>0.00</td>\n",
       "      <td>0.00</td>\n",
       "      <td>0.00</td>\n",
       "      <td>0.00</td>\n",
       "      <td>0.0</td>\n",
       "      <td>0.00</td>\n",
       "      <td>0.0</td>\n",
       "      <td>21</td>\n",
       "      <td>0</td>\n",
       "    </tr>\n",
       "    <tr>\n",
       "      <th>4</th>\n",
       "      <td>0</td>\n",
       "      <td>tcp</td>\n",
       "      <td>uucp_path</td>\n",
       "      <td>REJ</td>\n",
       "      <td>0</td>\n",
       "      <td>0</td>\n",
       "      <td>0</td>\n",
       "      <td>0</td>\n",
       "      <td>0</td>\n",
       "      <td>0</td>\n",
       "      <td>...</td>\n",
       "      <td>0.01</td>\n",
       "      <td>0.08</td>\n",
       "      <td>0.00</td>\n",
       "      <td>0.00</td>\n",
       "      <td>0.00</td>\n",
       "      <td>0.0</td>\n",
       "      <td>1.00</td>\n",
       "      <td>1.0</td>\n",
       "      <td>19</td>\n",
       "      <td>1</td>\n",
       "    </tr>\n",
       "  </tbody>\n",
       "</table>\n",
       "<p>5 rows × 43 columns</p>\n",
       "</div>"
      ],
      "text/plain": [
       "   duration protocoltype      service flag  srcbytes  dstbytes  land  \\\n",
       "0         0          tcp  netbios_dgm  REJ         0         0     0   \n",
       "1         0          tcp         smtp   SF      1239       400     0   \n",
       "2         0          tcp         http   SF       222       945     0   \n",
       "3         0          tcp         http   SF       235      1380     0   \n",
       "4         0          tcp    uucp_path  REJ         0         0     0   \n",
       "\n",
       "   wrongfragment  urgent  hot  ...  dsthostsamesrvrate  dsthostdiffsrvrate  \\\n",
       "0              0       0    0  ...                0.06                0.06   \n",
       "1              0       0    0  ...                0.45                0.04   \n",
       "2              0       0    0  ...                1.00                0.00   \n",
       "3              0       0    0  ...                1.00                0.00   \n",
       "4              0       0    0  ...                0.01                0.08   \n",
       "\n",
       "   dsthostsamesrcportrate  dsthostsrvdiffhostrate  dsthostserrorrate  \\\n",
       "0                    0.00                    0.00               0.00   \n",
       "1                    0.00                    0.00               0.11   \n",
       "2                    0.02                    0.03               0.00   \n",
       "3                    0.00                    0.00               0.00   \n",
       "4                    0.00                    0.00               0.00   \n",
       "\n",
       "   dsthostsrvserrorrate  dsthostrerrorrate  dsthostsrvrerrorrate  lastflag  \\\n",
       "0                   0.0               1.00                   1.0        21   \n",
       "1                   0.0               0.02                   0.0        18   \n",
       "2                   0.0               0.00                   0.0        21   \n",
       "3                   0.0               0.00                   0.0        21   \n",
       "4                   0.0               1.00                   1.0        19   \n",
       "\n",
       "   attack  \n",
       "0       1  \n",
       "1       0  \n",
       "2       0  \n",
       "3       0  \n",
       "4       1  \n",
       "\n",
       "[5 rows x 43 columns]"
      ]
     },
     "execution_count": 3,
     "metadata": {},
     "output_type": "execute_result"
    }
   ],
   "source": [
    "train_data.head()"
   ]
  },
  {
   "cell_type": "code",
   "execution_count": 4,
   "id": "94592962-cf54-4d12-831c-936d94ff3de4",
   "metadata": {},
   "outputs": [],
   "source": [
    "test_data = pd.read_csv('Test_data.csv')"
   ]
  },
  {
   "cell_type": "code",
   "execution_count": 5,
   "id": "d8721cb3-5573-4453-b362-d2b345ecc017",
   "metadata": {},
   "outputs": [
    {
     "data": {
      "text/html": [
       "<div>\n",
       "<style scoped>\n",
       "    .dataframe tbody tr th:only-of-type {\n",
       "        vertical-align: middle;\n",
       "    }\n",
       "\n",
       "    .dataframe tbody tr th {\n",
       "        vertical-align: top;\n",
       "    }\n",
       "\n",
       "    .dataframe thead th {\n",
       "        text-align: right;\n",
       "    }\n",
       "</style>\n",
       "<table border=\"1\" class=\"dataframe\">\n",
       "  <thead>\n",
       "    <tr style=\"text-align: right;\">\n",
       "      <th></th>\n",
       "      <th>duration</th>\n",
       "      <th>protocoltype</th>\n",
       "      <th>service</th>\n",
       "      <th>flag</th>\n",
       "      <th>srcbytes</th>\n",
       "      <th>dstbytes</th>\n",
       "      <th>land</th>\n",
       "      <th>wrongfragment</th>\n",
       "      <th>urgent</th>\n",
       "      <th>hot</th>\n",
       "      <th>...</th>\n",
       "      <th>dsthostsrvcount</th>\n",
       "      <th>dsthostsamesrvrate</th>\n",
       "      <th>dsthostdiffsrvrate</th>\n",
       "      <th>dsthostsamesrcportrate</th>\n",
       "      <th>dsthostsrvdiffhostrate</th>\n",
       "      <th>dsthostserrorrate</th>\n",
       "      <th>dsthostsrvserrorrate</th>\n",
       "      <th>dsthostrerrorrate</th>\n",
       "      <th>dsthostsrvrerrorrate</th>\n",
       "      <th>lastflag</th>\n",
       "    </tr>\n",
       "  </thead>\n",
       "  <tbody>\n",
       "    <tr>\n",
       "      <th>0</th>\n",
       "      <td>0</td>\n",
       "      <td>tcp</td>\n",
       "      <td>mtp</td>\n",
       "      <td>REJ</td>\n",
       "      <td>0</td>\n",
       "      <td>0</td>\n",
       "      <td>0</td>\n",
       "      <td>0</td>\n",
       "      <td>0</td>\n",
       "      <td>0</td>\n",
       "      <td>...</td>\n",
       "      <td>7</td>\n",
       "      <td>0.03</td>\n",
       "      <td>0.08</td>\n",
       "      <td>0.0</td>\n",
       "      <td>0.0</td>\n",
       "      <td>0.0</td>\n",
       "      <td>0.0</td>\n",
       "      <td>1.0</td>\n",
       "      <td>1.0</td>\n",
       "      <td>20</td>\n",
       "    </tr>\n",
       "    <tr>\n",
       "      <th>1</th>\n",
       "      <td>0</td>\n",
       "      <td>tcp</td>\n",
       "      <td>http</td>\n",
       "      <td>SF</td>\n",
       "      <td>199</td>\n",
       "      <td>1721</td>\n",
       "      <td>0</td>\n",
       "      <td>0</td>\n",
       "      <td>0</td>\n",
       "      <td>0</td>\n",
       "      <td>...</td>\n",
       "      <td>255</td>\n",
       "      <td>1.00</td>\n",
       "      <td>0.00</td>\n",
       "      <td>0.0</td>\n",
       "      <td>0.0</td>\n",
       "      <td>0.0</td>\n",
       "      <td>0.0</td>\n",
       "      <td>0.0</td>\n",
       "      <td>0.0</td>\n",
       "      <td>21</td>\n",
       "    </tr>\n",
       "    <tr>\n",
       "      <th>2</th>\n",
       "      <td>0</td>\n",
       "      <td>tcp</td>\n",
       "      <td>discard</td>\n",
       "      <td>S0</td>\n",
       "      <td>0</td>\n",
       "      <td>0</td>\n",
       "      <td>0</td>\n",
       "      <td>0</td>\n",
       "      <td>0</td>\n",
       "      <td>0</td>\n",
       "      <td>...</td>\n",
       "      <td>14</td>\n",
       "      <td>0.05</td>\n",
       "      <td>0.09</td>\n",
       "      <td>0.0</td>\n",
       "      <td>0.0</td>\n",
       "      <td>1.0</td>\n",
       "      <td>1.0</td>\n",
       "      <td>0.0</td>\n",
       "      <td>0.0</td>\n",
       "      <td>18</td>\n",
       "    </tr>\n",
       "    <tr>\n",
       "      <th>3</th>\n",
       "      <td>0</td>\n",
       "      <td>tcp</td>\n",
       "      <td>telnet</td>\n",
       "      <td>S0</td>\n",
       "      <td>0</td>\n",
       "      <td>0</td>\n",
       "      <td>0</td>\n",
       "      <td>0</td>\n",
       "      <td>0</td>\n",
       "      <td>0</td>\n",
       "      <td>...</td>\n",
       "      <td>2</td>\n",
       "      <td>0.01</td>\n",
       "      <td>0.09</td>\n",
       "      <td>0.0</td>\n",
       "      <td>0.0</td>\n",
       "      <td>1.0</td>\n",
       "      <td>1.0</td>\n",
       "      <td>0.0</td>\n",
       "      <td>0.0</td>\n",
       "      <td>18</td>\n",
       "    </tr>\n",
       "    <tr>\n",
       "      <th>4</th>\n",
       "      <td>0</td>\n",
       "      <td>tcp</td>\n",
       "      <td>exec</td>\n",
       "      <td>S0</td>\n",
       "      <td>0</td>\n",
       "      <td>0</td>\n",
       "      <td>0</td>\n",
       "      <td>0</td>\n",
       "      <td>0</td>\n",
       "      <td>0</td>\n",
       "      <td>...</td>\n",
       "      <td>16</td>\n",
       "      <td>0.06</td>\n",
       "      <td>0.06</td>\n",
       "      <td>0.0</td>\n",
       "      <td>0.0</td>\n",
       "      <td>1.0</td>\n",
       "      <td>1.0</td>\n",
       "      <td>0.0</td>\n",
       "      <td>0.0</td>\n",
       "      <td>20</td>\n",
       "    </tr>\n",
       "  </tbody>\n",
       "</table>\n",
       "<p>5 rows × 42 columns</p>\n",
       "</div>"
      ],
      "text/plain": [
       "   duration protocoltype  service flag  srcbytes  dstbytes  land  \\\n",
       "0         0          tcp      mtp  REJ         0         0     0   \n",
       "1         0          tcp     http   SF       199      1721     0   \n",
       "2         0          tcp  discard   S0         0         0     0   \n",
       "3         0          tcp   telnet   S0         0         0     0   \n",
       "4         0          tcp     exec   S0         0         0     0   \n",
       "\n",
       "   wrongfragment  urgent  hot  ...  dsthostsrvcount  dsthostsamesrvrate  \\\n",
       "0              0       0    0  ...                7                0.03   \n",
       "1              0       0    0  ...              255                1.00   \n",
       "2              0       0    0  ...               14                0.05   \n",
       "3              0       0    0  ...                2                0.01   \n",
       "4              0       0    0  ...               16                0.06   \n",
       "\n",
       "   dsthostdiffsrvrate  dsthostsamesrcportrate  dsthostsrvdiffhostrate  \\\n",
       "0                0.08                     0.0                     0.0   \n",
       "1                0.00                     0.0                     0.0   \n",
       "2                0.09                     0.0                     0.0   \n",
       "3                0.09                     0.0                     0.0   \n",
       "4                0.06                     0.0                     0.0   \n",
       "\n",
       "   dsthostserrorrate  dsthostsrvserrorrate  dsthostrerrorrate  \\\n",
       "0                0.0                   0.0                1.0   \n",
       "1                0.0                   0.0                0.0   \n",
       "2                1.0                   1.0                0.0   \n",
       "3                1.0                   1.0                0.0   \n",
       "4                1.0                   1.0                0.0   \n",
       "\n",
       "   dsthostsrvrerrorrate  lastflag  \n",
       "0                   1.0        20  \n",
       "1                   0.0        21  \n",
       "2                   0.0        18  \n",
       "3                   0.0        18  \n",
       "4                   0.0        20  \n",
       "\n",
       "[5 rows x 42 columns]"
      ]
     },
     "execution_count": 5,
     "metadata": {},
     "output_type": "execute_result"
    }
   ],
   "source": [
    "test_data.head()"
   ]
  },
  {
   "cell_type": "code",
   "execution_count": 6,
   "id": "5423fd0f-cf5d-4e30-9177-84095af97ab7",
   "metadata": {},
   "outputs": [
    {
     "data": {
      "text/plain": [
       "(86845, 43)"
      ]
     },
     "execution_count": 6,
     "metadata": {},
     "output_type": "execute_result"
    }
   ],
   "source": [
    "train_data.shape"
   ]
  },
  {
   "cell_type": "code",
   "execution_count": 7,
   "id": "bfade3ff-a1f9-47c8-96c5-063023ea3225",
   "metadata": {},
   "outputs": [
    {
     "data": {
      "text/plain": [
       "duration                  0\n",
       "protocoltype              0\n",
       "service                   0\n",
       "flag                      0\n",
       "srcbytes                  0\n",
       "dstbytes                  0\n",
       "land                      0\n",
       "wrongfragment             0\n",
       "urgent                    0\n",
       "hot                       0\n",
       "numfailedlogins           0\n",
       "loggedin                  0\n",
       "numcompromised            0\n",
       "rootshell                 0\n",
       "suattempted               0\n",
       "numroot                   0\n",
       "numfilecreations          0\n",
       "numshells                 0\n",
       "numaccessfiles            0\n",
       "numoutboundcmds           0\n",
       "ishostlogin               0\n",
       "isguestlogin              0\n",
       "count                     0\n",
       "srvcount                  0\n",
       "serrorrate                0\n",
       "srvserrorrate             0\n",
       "rerrorrate                0\n",
       "srvrerrorrate             0\n",
       "samesrvrate               0\n",
       "diffsrvrate               0\n",
       "srvdiffhostrate           0\n",
       "dsthostcount              0\n",
       "dsthostsrvcount           0\n",
       "dsthostsamesrvrate        0\n",
       "dsthostdiffsrvrate        0\n",
       "dsthostsamesrcportrate    0\n",
       "dsthostsrvdiffhostrate    0\n",
       "dsthostserrorrate         0\n",
       "dsthostsrvserrorrate      0\n",
       "dsthostrerrorrate         0\n",
       "dsthostsrvrerrorrate      0\n",
       "lastflag                  0\n",
       "attack                    0\n",
       "dtype: int64"
      ]
     },
     "execution_count": 7,
     "metadata": {},
     "output_type": "execute_result"
    }
   ],
   "source": [
    "train_data.isnull().sum()"
   ]
  },
  {
   "cell_type": "code",
   "execution_count": 8,
   "id": "6ca11635-a823-439b-b983-3b38bffc13fa",
   "metadata": {},
   "outputs": [
    {
     "data": {
      "text/plain": [
       "duration                    int64\n",
       "protocoltype               object\n",
       "service                    object\n",
       "flag                       object\n",
       "srcbytes                    int64\n",
       "dstbytes                    int64\n",
       "land                        int64\n",
       "wrongfragment               int64\n",
       "urgent                      int64\n",
       "hot                         int64\n",
       "numfailedlogins             int64\n",
       "loggedin                    int64\n",
       "numcompromised              int64\n",
       "rootshell                   int64\n",
       "suattempted                 int64\n",
       "numroot                     int64\n",
       "numfilecreations            int64\n",
       "numshells                   int64\n",
       "numaccessfiles              int64\n",
       "numoutboundcmds             int64\n",
       "ishostlogin                 int64\n",
       "isguestlogin                int64\n",
       "count                       int64\n",
       "srvcount                    int64\n",
       "serrorrate                float64\n",
       "srvserrorrate             float64\n",
       "rerrorrate                float64\n",
       "srvrerrorrate             float64\n",
       "samesrvrate               float64\n",
       "diffsrvrate               float64\n",
       "srvdiffhostrate           float64\n",
       "dsthostcount                int64\n",
       "dsthostsrvcount             int64\n",
       "dsthostsamesrvrate        float64\n",
       "dsthostdiffsrvrate        float64\n",
       "dsthostsamesrcportrate    float64\n",
       "dsthostsrvdiffhostrate    float64\n",
       "dsthostserrorrate         float64\n",
       "dsthostsrvserrorrate      float64\n",
       "dsthostrerrorrate         float64\n",
       "dsthostsrvrerrorrate      float64\n",
       "lastflag                    int64\n",
       "attack                      int64\n",
       "dtype: object"
      ]
     },
     "execution_count": 8,
     "metadata": {},
     "output_type": "execute_result"
    }
   ],
   "source": [
    "train_data.dtypes"
   ]
  },
  {
   "cell_type": "code",
   "execution_count": 9,
   "id": "c215db44-5f49-49aa-a7f8-e7a936b3a547",
   "metadata": {},
   "outputs": [],
   "source": [
    "from sklearn.preprocessing import LabelEncoder\n",
    "le = LabelEncoder()\n",
    "train_data.flag = le.fit_transform(train_data.flag)\n",
    "test_data.flag = le.transform(test_data.flag)\n",
    "\n",
    "train_data.protocoltype = le.fit_transform(train_data.protocoltype)\n",
    "test_data.protocoltype = le.transform(test_data.protocoltype)\n",
    "\n",
    "train_data.service = le.fit_transform(train_data.service)\n",
    "test_data.service = le.transform(test_data.service)"
   ]
  },
  {
   "cell_type": "code",
   "execution_count": 10,
   "id": "5d405b1f-a975-41e0-ac2c-f26a574f1498",
   "metadata": {},
   "outputs": [],
   "source": [
    "from sklearn.model_selection import train_test_split"
   ]
  },
  {
   "cell_type": "code",
   "execution_count": 11,
   "id": "41643178-56ae-4b90-9041-38f6dfae08d7",
   "metadata": {},
   "outputs": [],
   "source": [
    "X_train,X_test,y_train,y_test = train_test_split(train_data.drop('attack',axis=1),train_data['attack'],test_size=0.3,random_state=32)"
   ]
  },
  {
   "cell_type": "code",
   "execution_count": 12,
   "id": "76bbc654-30fe-4c7e-aa83-26810babea75",
   "metadata": {},
   "outputs": [
    {
     "data": {
      "text/plain": [
       "(60791,)"
      ]
     },
     "execution_count": 12,
     "metadata": {},
     "output_type": "execute_result"
    }
   ],
   "source": [
    "y_train.shape"
   ]
  },
  {
   "cell_type": "code",
   "execution_count": 13,
   "id": "25d06e7b-c9af-4461-a657-d4b0e0653326",
   "metadata": {},
   "outputs": [
    {
     "data": {
      "text/plain": [
       "(26054,)"
      ]
     },
     "execution_count": 13,
     "metadata": {},
     "output_type": "execute_result"
    }
   ],
   "source": [
    "y_test.shape"
   ]
  },
  {
   "cell_type": "code",
   "execution_count": 14,
   "id": "913879da-f346-4e84-b649-ce251ca34aa3",
   "metadata": {},
   "outputs": [
    {
     "data": {
      "text/plain": [
       "(86845, 43)"
      ]
     },
     "execution_count": 14,
     "metadata": {},
     "output_type": "execute_result"
    }
   ],
   "source": [
    "train_data.shape"
   ]
  },
  {
   "cell_type": "code",
   "execution_count": 15,
   "id": "7fbd86df-35f4-40c5-a21e-00c79477e5bb",
   "metadata": {},
   "outputs": [
    {
     "data": {
      "text/plain": [
       "(60791, 42)"
      ]
     },
     "execution_count": 15,
     "metadata": {},
     "output_type": "execute_result"
    }
   ],
   "source": [
    "X_train.shape"
   ]
  },
  {
   "cell_type": "code",
   "execution_count": 16,
   "id": "37af4365-020e-4c49-b24a-3a99f4258f6a",
   "metadata": {},
   "outputs": [],
   "source": [
    "from sklearn.metrics import mean_squared_error"
   ]
  },
  {
   "cell_type": "code",
   "execution_count": 17,
   "id": "43d88e1e-983d-4961-bfda-5a1dfb38f944",
   "metadata": {},
   "outputs": [],
   "source": [
    "def accuracy_predictor(model,X_train,X_test,y_train,y_test):\n",
    "    model.fit(X_train,y_train)\n",
    "    y_pred = model.predict(X_test)\n",
    "    return mean_squared_error(y_test,y_pred)\n",
    "    "
   ]
  },
  {
   "cell_type": "code",
   "execution_count": 18,
   "id": "bc828ebc-fe50-48a7-8c85-d384cae202d4",
   "metadata": {},
   "outputs": [],
   "source": [
    "from sklearn.linear_model import LinearRegression"
   ]
  },
  {
   "cell_type": "code",
   "execution_count": 19,
   "id": "21bf0018-910c-41fb-b771-ad6c65754909",
   "metadata": {},
   "outputs": [],
   "source": [
    "from sklearn.linear_model import LogisticRegression"
   ]
  },
  {
   "cell_type": "code",
   "execution_count": 20,
   "id": "fc155b38-3457-4125-bf66-fa558c682939",
   "metadata": {},
   "outputs": [],
   "source": [
    "lgr = LogisticRegression()"
   ]
  },
  {
   "cell_type": "code",
   "execution_count": 21,
   "id": "ddd2c035-1be6-4d8c-8561-608c0177b3fe",
   "metadata": {},
   "outputs": [],
   "source": [
    "lr = LinearRegression()"
   ]
  },
  {
   "cell_type": "code",
   "execution_count": 22,
   "id": "f5d22e45-21db-4579-a206-c1be26521ba9",
   "metadata": {},
   "outputs": [
    {
     "data": {
      "text/plain": [
       "0.008443717545476797"
      ]
     },
     "execution_count": 22,
     "metadata": {},
     "output_type": "execute_result"
    }
   ],
   "source": [
    "accuracy_predictor(lr,X_train,X_test,y_train,y_test)"
   ]
  },
  {
   "cell_type": "code",
   "execution_count": 23,
   "id": "2a1d87cf-5b33-43d7-9cd8-16d4e9dd16b8",
   "metadata": {},
   "outputs": [
    {
     "name": "stderr",
     "output_type": "stream",
     "text": [
      "C:\\Users\\hp\\AppData\\Local\\Programs\\Python\\Python312\\Lib\\site-packages\\sklearn\\linear_model\\_logistic.py:469: ConvergenceWarning: lbfgs failed to converge (status=1):\n",
      "STOP: TOTAL NO. of ITERATIONS REACHED LIMIT.\n",
      "\n",
      "Increase the number of iterations (max_iter) or scale the data as shown in:\n",
      "    https://scikit-learn.org/stable/modules/preprocessing.html\n",
      "Please also refer to the documentation for alternative solver options:\n",
      "    https://scikit-learn.org/stable/modules/linear_model.html#logistic-regression\n",
      "  n_iter_i = _check_optimize_result(\n"
     ]
    },
    {
     "data": {
      "text/plain": [
       "0.0003454364013203347"
      ]
     },
     "execution_count": 23,
     "metadata": {},
     "output_type": "execute_result"
    }
   ],
   "source": [
    "accuracy_predictor(lgr,X_train,X_test,y_train,y_test)"
   ]
  },
  {
   "cell_type": "code",
   "execution_count": 24,
   "id": "2cc58a6d-b3a3-40bb-bf97-0de07354800f",
   "metadata": {},
   "outputs": [],
   "source": [
    "from sklearn import svm\n",
    "svmm = svm.SVC()"
   ]
  },
  {
   "cell_type": "code",
   "execution_count": 25,
   "id": "44948c47-c2ba-4b22-927f-d02ff84a1436",
   "metadata": {},
   "outputs": [],
   "source": [
    "from sklearn.ensemble import RandomForestClassifier\n",
    "\n",
    "# Create an instance of the RandomForestClassifier\n",
    "rf_clf = RandomForestClassifier(criterion='entropy')"
   ]
  },
  {
   "cell_type": "code",
   "execution_count": 26,
   "id": "8f031f29-b8b1-4cb5-8d86-cae5887ef321",
   "metadata": {},
   "outputs": [
    {
     "data": {
      "text/plain": [
       "3.8381822368926074e-05"
      ]
     },
     "execution_count": 26,
     "metadata": {},
     "output_type": "execute_result"
    }
   ],
   "source": [
    "accuracy_predictor(rf_clf,X_train,X_test,y_train,y_test)"
   ]
  },
  {
   "cell_type": "code",
   "execution_count": 27,
   "id": "8642dda1-624c-438d-a236-a39b41d32c1c",
   "metadata": {},
   "outputs": [],
   "source": [
    "rf_clf1 = RandomForestClassifier(criterion = 'gini')"
   ]
  },
  {
   "cell_type": "code",
   "execution_count": 28,
   "id": "9fafa020-559c-4cdf-b852-a247b2ba57b4",
   "metadata": {},
   "outputs": [
    {
     "data": {
      "text/plain": [
       "3.8381822368926074e-05"
      ]
     },
     "execution_count": 28,
     "metadata": {},
     "output_type": "execute_result"
    }
   ],
   "source": [
    "accuracy_predictor(rf_clf1,X_train,X_test,y_train,y_test)"
   ]
  },
  {
   "cell_type": "code",
   "execution_count": 29,
   "id": "7e968178-79a7-41aa-8cc6-cc9a67f99de1",
   "metadata": {},
   "outputs": [],
   "source": [
    "from xgboost import XGBClassifier\n",
    "xgbc = XGBClassifier()"
   ]
  },
  {
   "cell_type": "code",
   "execution_count": 30,
   "id": "e764e670-78a1-4db9-9fc4-c2bcb11c1e28",
   "metadata": {},
   "outputs": [
    {
     "data": {
      "text/plain": [
       "7.676364473785215e-05"
      ]
     },
     "execution_count": 30,
     "metadata": {},
     "output_type": "execute_result"
    }
   ],
   "source": [
    "accuracy_predictor(xgbc,X_train,X_test,y_train,y_test)"
   ]
  },
  {
   "cell_type": "code",
   "execution_count": 31,
   "id": "48f20383-ce0a-478b-b646-a50ae97950bc",
   "metadata": {},
   "outputs": [],
   "source": [
    "from sklearn.ensemble import AdaBoostClassifier\n",
    "abc = AdaBoostClassifier()"
   ]
  },
  {
   "cell_type": "code",
   "execution_count": 32,
   "id": "380c2aaa-fcc5-481d-a711-60456db574bd",
   "metadata": {},
   "outputs": [
    {
     "name": "stderr",
     "output_type": "stream",
     "text": [
      "C:\\Users\\hp\\AppData\\Local\\Programs\\Python\\Python312\\Lib\\site-packages\\sklearn\\ensemble\\_weight_boosting.py:527: FutureWarning: The SAMME.R algorithm (the default) is deprecated and will be removed in 1.6. Use the SAMME algorithm to circumvent this warning.\n",
      "  warnings.warn(\n"
     ]
    },
    {
     "data": {
      "text/plain": [
       "0.0"
      ]
     },
     "execution_count": 32,
     "metadata": {},
     "output_type": "execute_result"
    }
   ],
   "source": [
    "accuracy_predictor(abc,X_train,X_test,y_train,y_test)"
   ]
  },
  {
   "cell_type": "code",
   "execution_count": 33,
   "id": "cef7b6ed-0034-4eb3-b118-d2f0f2be98df",
   "metadata": {},
   "outputs": [],
   "source": [
    "from sklearn.neighbors import KNeighborsClassifier"
   ]
  },
  {
   "cell_type": "code",
   "execution_count": 34,
   "id": "0b67fb44-dde9-40a3-afde-da389a2c419f",
   "metadata": {},
   "outputs": [],
   "source": [
    "knn = KNeighborsClassifier()"
   ]
  },
  {
   "cell_type": "code",
   "execution_count": 35,
   "id": "0d33025a-b100-4063-907f-998f098a44e5",
   "metadata": {},
   "outputs": [
    {
     "data": {
      "text/plain": [
       "0.0007292546250095954"
      ]
     },
     "execution_count": 35,
     "metadata": {},
     "output_type": "execute_result"
    }
   ],
   "source": [
    "accuracy_predictor(knn,X_train,X_test,y_train,y_test)"
   ]
  },
  {
   "cell_type": "code",
   "execution_count": 36,
   "id": "d0b3f059-e2d3-4c39-8841-b59bfb33fd0f",
   "metadata": {},
   "outputs": [
    {
     "data": {
      "text/html": [
       "<div>\n",
       "<style scoped>\n",
       "    .dataframe tbody tr th:only-of-type {\n",
       "        vertical-align: middle;\n",
       "    }\n",
       "\n",
       "    .dataframe tbody tr th {\n",
       "        vertical-align: top;\n",
       "    }\n",
       "\n",
       "    .dataframe thead th {\n",
       "        text-align: right;\n",
       "    }\n",
       "</style>\n",
       "<table border=\"1\" class=\"dataframe\">\n",
       "  <thead>\n",
       "    <tr style=\"text-align: right;\">\n",
       "      <th></th>\n",
       "      <th>duration</th>\n",
       "      <th>protocoltype</th>\n",
       "      <th>service</th>\n",
       "      <th>flag</th>\n",
       "      <th>srcbytes</th>\n",
       "      <th>dstbytes</th>\n",
       "      <th>land</th>\n",
       "      <th>wrongfragment</th>\n",
       "      <th>urgent</th>\n",
       "      <th>hot</th>\n",
       "      <th>...</th>\n",
       "      <th>dsthostsrvcount</th>\n",
       "      <th>dsthostsamesrvrate</th>\n",
       "      <th>dsthostdiffsrvrate</th>\n",
       "      <th>dsthostsamesrcportrate</th>\n",
       "      <th>dsthostsrvdiffhostrate</th>\n",
       "      <th>dsthostserrorrate</th>\n",
       "      <th>dsthostsrvserrorrate</th>\n",
       "      <th>dsthostrerrorrate</th>\n",
       "      <th>dsthostsrvrerrorrate</th>\n",
       "      <th>lastflag</th>\n",
       "    </tr>\n",
       "  </thead>\n",
       "  <tbody>\n",
       "    <tr>\n",
       "      <th>0</th>\n",
       "      <td>0</td>\n",
       "      <td>1</td>\n",
       "      <td>31</td>\n",
       "      <td>1</td>\n",
       "      <td>0</td>\n",
       "      <td>0</td>\n",
       "      <td>0</td>\n",
       "      <td>0</td>\n",
       "      <td>0</td>\n",
       "      <td>0</td>\n",
       "      <td>...</td>\n",
       "      <td>7</td>\n",
       "      <td>0.03</td>\n",
       "      <td>0.08</td>\n",
       "      <td>0.0</td>\n",
       "      <td>0.0</td>\n",
       "      <td>0.0</td>\n",
       "      <td>0.0</td>\n",
       "      <td>1.0</td>\n",
       "      <td>1.0</td>\n",
       "      <td>20</td>\n",
       "    </tr>\n",
       "    <tr>\n",
       "      <th>1</th>\n",
       "      <td>0</td>\n",
       "      <td>1</td>\n",
       "      <td>22</td>\n",
       "      <td>8</td>\n",
       "      <td>199</td>\n",
       "      <td>1721</td>\n",
       "      <td>0</td>\n",
       "      <td>0</td>\n",
       "      <td>0</td>\n",
       "      <td>0</td>\n",
       "      <td>...</td>\n",
       "      <td>255</td>\n",
       "      <td>1.00</td>\n",
       "      <td>0.00</td>\n",
       "      <td>0.0</td>\n",
       "      <td>0.0</td>\n",
       "      <td>0.0</td>\n",
       "      <td>0.0</td>\n",
       "      <td>0.0</td>\n",
       "      <td>0.0</td>\n",
       "      <td>21</td>\n",
       "    </tr>\n",
       "    <tr>\n",
       "      <th>2</th>\n",
       "      <td>0</td>\n",
       "      <td>1</td>\n",
       "      <td>9</td>\n",
       "      <td>4</td>\n",
       "      <td>0</td>\n",
       "      <td>0</td>\n",
       "      <td>0</td>\n",
       "      <td>0</td>\n",
       "      <td>0</td>\n",
       "      <td>0</td>\n",
       "      <td>...</td>\n",
       "      <td>14</td>\n",
       "      <td>0.05</td>\n",
       "      <td>0.09</td>\n",
       "      <td>0.0</td>\n",
       "      <td>0.0</td>\n",
       "      <td>1.0</td>\n",
       "      <td>1.0</td>\n",
       "      <td>0.0</td>\n",
       "      <td>0.0</td>\n",
       "      <td>18</td>\n",
       "    </tr>\n",
       "    <tr>\n",
       "      <th>3</th>\n",
       "      <td>0</td>\n",
       "      <td>1</td>\n",
       "      <td>55</td>\n",
       "      <td>4</td>\n",
       "      <td>0</td>\n",
       "      <td>0</td>\n",
       "      <td>0</td>\n",
       "      <td>0</td>\n",
       "      <td>0</td>\n",
       "      <td>0</td>\n",
       "      <td>...</td>\n",
       "      <td>2</td>\n",
       "      <td>0.01</td>\n",
       "      <td>0.09</td>\n",
       "      <td>0.0</td>\n",
       "      <td>0.0</td>\n",
       "      <td>1.0</td>\n",
       "      <td>1.0</td>\n",
       "      <td>0.0</td>\n",
       "      <td>0.0</td>\n",
       "      <td>18</td>\n",
       "    </tr>\n",
       "    <tr>\n",
       "      <th>4</th>\n",
       "      <td>0</td>\n",
       "      <td>1</td>\n",
       "      <td>16</td>\n",
       "      <td>4</td>\n",
       "      <td>0</td>\n",
       "      <td>0</td>\n",
       "      <td>0</td>\n",
       "      <td>0</td>\n",
       "      <td>0</td>\n",
       "      <td>0</td>\n",
       "      <td>...</td>\n",
       "      <td>16</td>\n",
       "      <td>0.06</td>\n",
       "      <td>0.06</td>\n",
       "      <td>0.0</td>\n",
       "      <td>0.0</td>\n",
       "      <td>1.0</td>\n",
       "      <td>1.0</td>\n",
       "      <td>0.0</td>\n",
       "      <td>0.0</td>\n",
       "      <td>20</td>\n",
       "    </tr>\n",
       "  </tbody>\n",
       "</table>\n",
       "<p>5 rows × 42 columns</p>\n",
       "</div>"
      ],
      "text/plain": [
       "   duration  protocoltype  service  flag  srcbytes  dstbytes  land  \\\n",
       "0         0             1       31     1         0         0     0   \n",
       "1         0             1       22     8       199      1721     0   \n",
       "2         0             1        9     4         0         0     0   \n",
       "3         0             1       55     4         0         0     0   \n",
       "4         0             1       16     4         0         0     0   \n",
       "\n",
       "   wrongfragment  urgent  hot  ...  dsthostsrvcount  dsthostsamesrvrate  \\\n",
       "0              0       0    0  ...                7                0.03   \n",
       "1              0       0    0  ...              255                1.00   \n",
       "2              0       0    0  ...               14                0.05   \n",
       "3              0       0    0  ...                2                0.01   \n",
       "4              0       0    0  ...               16                0.06   \n",
       "\n",
       "   dsthostdiffsrvrate  dsthostsamesrcportrate  dsthostsrvdiffhostrate  \\\n",
       "0                0.08                     0.0                     0.0   \n",
       "1                0.00                     0.0                     0.0   \n",
       "2                0.09                     0.0                     0.0   \n",
       "3                0.09                     0.0                     0.0   \n",
       "4                0.06                     0.0                     0.0   \n",
       "\n",
       "   dsthostserrorrate  dsthostsrvserrorrate  dsthostrerrorrate  \\\n",
       "0                0.0                   0.0                1.0   \n",
       "1                0.0                   0.0                0.0   \n",
       "2                1.0                   1.0                0.0   \n",
       "3                1.0                   1.0                0.0   \n",
       "4                1.0                   1.0                0.0   \n",
       "\n",
       "   dsthostsrvrerrorrate  lastflag  \n",
       "0                   1.0        20  \n",
       "1                   0.0        21  \n",
       "2                   0.0        18  \n",
       "3                   0.0        18  \n",
       "4                   0.0        20  \n",
       "\n",
       "[5 rows x 42 columns]"
      ]
     },
     "execution_count": 36,
     "metadata": {},
     "output_type": "execute_result"
    }
   ],
   "source": [
    "test_data.head()"
   ]
  },
  {
   "cell_type": "code",
   "execution_count": 38,
   "id": "1ae04098-aa11-493e-a7ab-0eb5138cfd9c",
   "metadata": {},
   "outputs": [
    {
     "data": {
      "text/plain": [
       "duration                  0\n",
       "protocoltype              0\n",
       "service                   0\n",
       "flag                      0\n",
       "srcbytes                  0\n",
       "dstbytes                  0\n",
       "land                      0\n",
       "wrongfragment             0\n",
       "urgent                    0\n",
       "hot                       0\n",
       "numfailedlogins           0\n",
       "loggedin                  0\n",
       "numcompromised            0\n",
       "rootshell                 0\n",
       "suattempted               0\n",
       "numroot                   0\n",
       "numfilecreations          0\n",
       "numshells                 0\n",
       "numaccessfiles            0\n",
       "numoutboundcmds           0\n",
       "ishostlogin               0\n",
       "isguestlogin              0\n",
       "count                     0\n",
       "srvcount                  0\n",
       "serrorrate                0\n",
       "srvserrorrate             0\n",
       "rerrorrate                0\n",
       "srvrerrorrate             0\n",
       "samesrvrate               0\n",
       "diffsrvrate               0\n",
       "srvdiffhostrate           0\n",
       "dsthostcount              0\n",
       "dsthostsrvcount           0\n",
       "dsthostsamesrvrate        0\n",
       "dsthostdiffsrvrate        0\n",
       "dsthostsamesrcportrate    0\n",
       "dsthostsrvdiffhostrate    0\n",
       "dsthostserrorrate         0\n",
       "dsthostsrvserrorrate      0\n",
       "dsthostrerrorrate         0\n",
       "dsthostsrvrerrorrate      0\n",
       "lastflag                  0\n",
       "dtype: int64"
      ]
     },
     "execution_count": 38,
     "metadata": {},
     "output_type": "execute_result"
    }
   ],
   "source": [
    "test_data.isnull().sum()"
   ]
  },
  {
   "cell_type": "code",
   "execution_count": 39,
   "id": "4a099990-a207-4fbf-9ebe-c82d0b4b66cd",
   "metadata": {},
   "outputs": [
    {
     "data": {
      "text/plain": [
       "duration                    int64\n",
       "protocoltype                int32\n",
       "service                     int32\n",
       "flag                        int32\n",
       "srcbytes                    int64\n",
       "dstbytes                    int64\n",
       "land                        int64\n",
       "wrongfragment               int64\n",
       "urgent                      int64\n",
       "hot                         int64\n",
       "numfailedlogins             int64\n",
       "loggedin                    int64\n",
       "numcompromised              int64\n",
       "rootshell                   int64\n",
       "suattempted                 int64\n",
       "numroot                     int64\n",
       "numfilecreations            int64\n",
       "numshells                   int64\n",
       "numaccessfiles              int64\n",
       "numoutboundcmds             int64\n",
       "ishostlogin                 int64\n",
       "isguestlogin                int64\n",
       "count                       int64\n",
       "srvcount                    int64\n",
       "serrorrate                float64\n",
       "srvserrorrate             float64\n",
       "rerrorrate                float64\n",
       "srvrerrorrate             float64\n",
       "samesrvrate               float64\n",
       "diffsrvrate               float64\n",
       "srvdiffhostrate           float64\n",
       "dsthostcount                int64\n",
       "dsthostsrvcount             int64\n",
       "dsthostsamesrvrate        float64\n",
       "dsthostdiffsrvrate        float64\n",
       "dsthostsamesrcportrate    float64\n",
       "dsthostsrvdiffhostrate    float64\n",
       "dsthostserrorrate         float64\n",
       "dsthostsrvserrorrate      float64\n",
       "dsthostrerrorrate         float64\n",
       "dsthostsrvrerrorrate      float64\n",
       "lastflag                    int64\n",
       "dtype: object"
      ]
     },
     "execution_count": 39,
     "metadata": {},
     "output_type": "execute_result"
    }
   ],
   "source": [
    "test_data.dtypes"
   ]
  },
  {
   "cell_type": "code",
   "execution_count": 40,
   "id": "de30dedb-8a22-45ce-9fa7-085cc9e376eb",
   "metadata": {},
   "outputs": [],
   "source": [
    "y_pred = rf_clf.predict(test_data)"
   ]
  },
  {
   "cell_type": "code",
   "execution_count": 43,
   "id": "ced65787-5896-49ab-b656-97b7fae3da37",
   "metadata": {},
   "outputs": [
    {
     "data": {
      "text/plain": [
       "(21712,)"
      ]
     },
     "execution_count": 43,
     "metadata": {},
     "output_type": "execute_result"
    }
   ],
   "source": [
    "y_pred.shape"
   ]
  },
  {
   "cell_type": "code",
   "execution_count": 44,
   "id": "d2ce7792-62b7-4e3d-b19b-5cdb22966958",
   "metadata": {},
   "outputs": [
    {
     "data": {
      "text/plain": [
       "(21712, 42)"
      ]
     },
     "execution_count": 44,
     "metadata": {},
     "output_type": "execute_result"
    }
   ],
   "source": [
    "test_data.shape"
   ]
  },
  {
   "cell_type": "code",
   "execution_count": 53,
   "id": "cdbcaf28-a7c4-4dcd-80e8-7245b3620b97",
   "metadata": {},
   "outputs": [],
   "source": [
    "answer = pd.Series(y_pred,name = 'attack')"
   ]
  },
  {
   "cell_type": "code",
   "execution_count": 54,
   "id": "14b2e5d8-3b80-40ab-8ee5-ef01149df34d",
   "metadata": {},
   "outputs": [
    {
     "data": {
      "text/plain": [
       "0    1\n",
       "1    0\n",
       "2    1\n",
       "3    1\n",
       "4    1\n",
       "Name: attack, dtype: int64"
      ]
     },
     "execution_count": 54,
     "metadata": {},
     "output_type": "execute_result"
    }
   ],
   "source": [
    "answer.head()"
   ]
  },
  {
   "cell_type": "code",
   "execution_count": 55,
   "id": "7d9fd809-09b8-444f-98a2-720d273d35b2",
   "metadata": {},
   "outputs": [
    {
     "data": {
      "text/plain": [
       "attack\n",
       "0    13500\n",
       "1     8212\n",
       "Name: count, dtype: int64"
      ]
     },
     "execution_count": 55,
     "metadata": {},
     "output_type": "execute_result"
    }
   ],
   "source": [
    "answer.value_counts()"
   ]
  },
  {
   "cell_type": "code",
   "execution_count": 56,
   "id": "468af26c-3f40-4e6b-b5ed-82669a40b775",
   "metadata": {},
   "outputs": [],
   "source": [
    "answer.to_csv('Hackethon_2_final_answer.csv',index=False)"
   ]
  },
  {
   "cell_type": "code",
   "execution_count": null,
   "id": "17134c2c-0949-445b-9e68-dfe8a16f9db4",
   "metadata": {},
   "outputs": [],
   "source": []
  }
 ],
 "metadata": {
  "kernelspec": {
   "display_name": "Python 3 (ipykernel)",
   "language": "python",
   "name": "python3"
  },
  "language_info": {
   "codemirror_mode": {
    "name": "ipython",
    "version": 3
   },
   "file_extension": ".py",
   "mimetype": "text/x-python",
   "name": "python",
   "nbconvert_exporter": "python",
   "pygments_lexer": "ipython3",
   "version": "3.11.7"
  }
 },
 "nbformat": 4,
 "nbformat_minor": 5
}
